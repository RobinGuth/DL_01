{
 "cells": [
  {
   "cell_type": "markdown",
   "metadata": {},
   "source": [
    "# Deep Reinforcement Learning"
   ]
  },
  {
   "cell_type": "markdown",
   "metadata": {},
   "source": [
    "### Credit:\n",
    "\n",
    "### Requirements:\n",
    "- Basic understanding of reinforcement learning (RL)\n",
    "- Basic understanding of deep learning in terms of RL\n",
    "- keras\n",
    "- numpy\n",
    "- admin console \n",
    "- ...\n",
    "- Wissen über NN (Layer etc.)\n",
    "\n",
    "### Target\n",
    "- Understanding {Agent, Environment, Action}\n",
    "..."
   ]
  },
  {
   "cell_type": "markdown",
   "metadata": {},
   "source": [
    "## Introduction\n",
    "\n",
    "Reinforcement learning (RL) is considered one of the three machine learning paradigms, alongside supervised learning and unsupervised learning. The task of the topic of RL is to navigate an agent by actions in an environment in a way to maximize a representation of a cummulativ reward. In order to miximize that reward the agent has to learn by trial and error which actions most likely result in a future reward and which lead to a penalty. An example of an environment is an game environment. The informations available for agent are the visual output of the game, the inputoptions and whether a previous action results in a reward or a penalty.  "
   ]
  },
  {
   "cell_type": "markdown",
   "metadata": {},
   "source": [
    "## The concept of RL\n",
    "\n",
    "The following diagramm shows an exemplary setup for a RL project with a game as an _environment_. For the navigation through this environment the _agent_ needs the actual game screen (_state_) as an input, in order to respond with a corresponding _action_. Every action taken leads to a value added to the score of the agent and a change in the environment resulting in the next state of the game. \n",
    "\n",
    "In order to improve, the agent has to play the game multiple times. For this we define a set amount of epochs with a set amount of time for the agent to play. \n",
    "\n",
    "This is where the RL part comes into play. In order to maxmize the reward, the agent has to learn which actions result in a positiv reward and should be prefered and which ones should be avoided because of a negativ reward. Because of missing knowledge the agent in the beginning is not able to decide which action should be the best to take in the given state, so it has to explore the environment by taking random actions and observing the reward. Over time the agent needs to decrease the amount of explorational actions and increase the amount of exploitational action in order to progress. This means that the random actions became fewer while the use of learned knowledge becames more often. \n",
    "\n",
    "![Image of RLSetup](img/1-aKYFRoEmmKkybqJOvLt2JQ.png \"RL setup diagram\")\n",
    "Source: https://medium.freecodecamp.org/an-introduction-to-reinforcement-learning-4339519de419\n",
    "\n",
    "## Summary:\n",
    "- Agent: takes actions\n",
    "- Environment: the world in which the agent exists and operates\n",
    "- Action ($A_{t}$): a move the agent can make in the environment\n",
    "- State ($S_{t}$): a situation which the agent preceives, a representation of the actual picture of the environment\n",
    "- Observation ($S_{t+1}$): the state of the environment after taking actions \n",
    "- Reward($R_{t}$): feedback that measures the success or failure of the agent's actions\n",
    "- Future Reward($R_{t+1}$): reward after taking actions\n",
    "\n",
    "![Image of RLConcept](img/eoeSq.png \"RL concept diagram\")\n",
    "\n",
    "Source: https://i.stack.imgur.com/eoeSq.png"
   ]
  },
  {
   "cell_type": "markdown",
   "metadata": {},
   "source": [
    "## Deep Learning Aspect\n",
    "\n",
    "The agent has to recognize and differentiate game elements in a frame of the game. Furthermore it must associate the occurence of individual elements on screen with its own actions and the subsequent reward or penalty, which may occur only after several steps in the future. Depending on the situation it may be also necessary to estimate what the next state of the game could be. There are two possible ways to use the Deep Learning aspect.\n",
    "\n",
    "1. Image processing with a Convolutional Neural Network (CNN), in order to process the image information.\n",
    "2. A Deep Q-Learning Network (DQN), in order to model the Q-function, which is discussed below.\n",
    "\n",
    "Following is an exemplary presentation of a neural network, which is designed according to the tasks just mentioned.\n",
    "\n",
    "![Image of ExampleDQN](img/v2-67ef75bb7f5e67b2a42645aa821894bf_hd.png \"Exemplary DQN\")\n",
    "\n",
    "Source: https://zhuanlan.zhihu.com/p/25239682"
   ]
  },
  {
   "cell_type": "markdown",
   "metadata": {},
   "source": [
    "# Q-Learning\n",
    "\n",
    "The task of the agent is the maximization of a cumulative future reward. An example of this could be the score in a game. In a game not every single move leads to an immediate reward, so the agent needs to learn multiple moves in succession in order to fulfill the given task. For example, if the agent needs to collect an object in order to get a highter score, it may be necessary to take multiple moves to reach it. So the moves in between doesn't increase the reward significantly, however they are needed to complete the task. \n",
    "\n",
    "The easiest variant to realize RL is Q-Learning. Therefor, so-called Q-Values are estimated. These assign a state of the game environment to a numerical value for every possible action of the agent. The Q-Value then provides an estimate of which action is most likely to result in the highest future reward. This will select the appropriate action for the agent.\n",
    "\n",
    "The Q-Values are not known at the beginning and have to be estimated somehow. For this purpose, these are initialized to zero and repeatedly updated as soon as the agent collects new information. The Q-Value must be updated every time the agent scores points. If the agent loses or dies, the resulting reward is $0$.\n",
    "\n",
    "In order to do that we need the _total reward_:\n",
    "\n",
    ">$R_t = \\sum\\limits_{i=t}^{\\infty} r_i = r_t + r_{t+1} + ... + r_{t+n} + ...$\n",
    "\n",
    "We also add a discount factor $\\gamma$ to this formula. That factor has a range of value between/from $1$ to $0$ and decreases the further the reward lays in the future, this way the rewards in near future are more dicisive for the agent.  \n",
    "\n",
    ">$R_t = \\sum\\limits_{i=t}^{\\infty} \\gamma _i r_i = \\gamma _{t} r_t + \\gamma _{t+1} r_{t+1} + ... + \\gamma _{t+n} r_{t+n} + ...$\n",
    "\n",
    "The total reward $R_t$ is the discounted sum of all rewards obtained from time t. \n",
    "\n",
    "\n",
    "## Q-function\n",
    "\n",
    "The Q-function is the name giving aspect of a Deep Q-Learning Network, while the \"Q\" stands for \"Quality\". The higher the reward, the higher the estimated Q-value and associated quality. This function captures the expected total future reward an agent could reach by executing a certain action $a_t$ in a given state $s_t$ and is used for our deep neural network. The DQN takes over the task of estimating this Q-value. At the beginning the agent has to gain knowledge by exploring the environment. To achieve this, observing random actions deliver the information needed. \n",
    "\n",
    ">$<$Q-Value depending on $s$ and $a$ $> = <$ Expected total future reward $>$\n",
    "<br>\n",
    "<br>\n",
    "$Q(s, a) = E[R_t]$\n",
    "\n",
    "If we have a good approximation of the Q-function for every state-action-pair, the agent needs to decide what's the best action to take in the given state. This means the agents needs to choose the action which maximizes the future Reward by the associated Q-value, with the help of a policy $\\pi^*(s)$. This is the part of exploiting the gained knowledge.\n",
    "\n",
    ">$<$Optimal policy depending on $s$$> = <$Action resulting in the highest future reward according to current knowledge$>$\n",
    "<br>\n",
    "<br>\n",
    "$\\pi^*(s) = {\\underset{a}{\\operatorname{argmax}}Q(s,a)}$\n",
    "\n",
    "At the moment we use the current state of the game, the actions to take and the reward, resulting from the decision of the agent. In order to improve the agents performance, we can also add the following state of the game. This is where the _Bellman equation_ comes in handy.\n",
    "\n",
    "The solution mentioned above looks in formula like this:\n",
    "\n",
    ">$<$Q-value depending on $s_t$ and $a_t$ $> = <$ Reward observed after the last action (immediate reward)$> + <$ Discount factor $> * <$ Maximum Q-value for the next state of the game (future reward)$>$\n",
    "<br>\n",
    "<br>\n",
    "$Q(s_t, a_t) = r_t + \\gamma * \\max\\limits_{a'} Q(s', a')$\n",
    "\n",
    "For now the Bellman equation provides the Q-value for a given action in a given state. In order to train our DQN regarding the Q-function, it is necessary to compare the Q-values predicted with the actual ones and minimize the error between the two. If we use the Bellman equation to calculate this difference, by simply subtracting these values, we get the so called _temporal difference error_.\n",
    "\n",
    ">$<$Temporal difference error$> = <$ Target Q-value$> - <$ Predicted Q-value$>$\n",
    "<br>\n",
    "<br>\n",
    "$\\delta = ( r_t + \\gamma * \\max\\limits_{a'} Q(s', a')) - Q(s_t, a_t)$\n",
    "\n",
    "Now we use _gradient descent_, an optimization algorithm, to optimize the Q-value approximation. Therefor we can train the DQN using _mean square error_ as the loss function, which results in the the following formula.\n",
    "\n",
    ">$L = E[\\lVert \\delta \\rVert ^2]$\n",
    "\n",
    "## Model Q-functions\n",
    "\n",
    "The following illustration shows two options by which we can model our Q-function with a deep neural network. The model on the left side estimates one Q-value at the time. The model on the right side is the prefered one, because of the increase in efficiency. It gets the state of the game and calculates multiple Q-values, after we get the result we have to choose the highest value to determine the action for the agent.\n",
    "\n",
    "![Image of DQN](img/main-qimg-0773775bf325ecc02d9b2f8374e2edaa.png \"DQN models\")"
   ]
  },
  {
   "cell_type": "markdown",
   "metadata": {},
   "source": [
    "# Policy Gradient"
   ]
  },
  {
   "cell_type": "markdown",
   "metadata": {},
   "source": [
    "# Sources\n",
    "\n",
    "This notebook is based on the following tutorial:\n",
    "\n",
    "https://www.youtube.com/watch?v=i6Mi2_QM3rA - theory about DRL"
   ]
  },
  {
   "cell_type": "code",
   "execution_count": null,
   "metadata": {},
   "outputs": [],
   "source": []
  }
 ],
 "metadata": {
  "kernelspec": {
   "display_name": "Python 3",
   "language": "python",
   "name": "python3"
  },
  "language_info": {
   "codemirror_mode": {
    "name": "ipython",
    "version": 3
   },
   "file_extension": ".py",
   "mimetype": "text/x-python",
   "name": "python",
   "nbconvert_exporter": "python",
   "pygments_lexer": "ipython3",
   "version": "3.7.3"
  }
 },
 "nbformat": 4,
 "nbformat_minor": 2
}
